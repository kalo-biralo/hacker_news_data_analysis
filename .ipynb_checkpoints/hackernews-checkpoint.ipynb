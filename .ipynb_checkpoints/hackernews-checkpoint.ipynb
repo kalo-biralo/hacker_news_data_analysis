{
 "cells": [
  {
   "cell_type": "markdown",
   "id": "f3f0c727",
   "metadata": {},
   "source": [
    "# Getting the most engagement on your post: An analysis on HackerNews\n",
    "\n",
    "This project aims to analyze the dataset describing the user posts in the website HackerNews in order to find the best time to ask a question or show interesting things on HackerNews.\n",
    "We will focus on \n",
    "- number of ask posts vs number of show posts\n",
    "- average comments and counts per posts\n",
    "- the time of day where there is most engagement\n",
    "\n",
    "## Summary of the result\n",
    "- on average ask posts receive more comments\n",
    "- 15:00 is the best time to ask a question on Hacker News"
   ]
  },
  {
   "cell_type": "code",
   "execution_count": 24,
   "id": "4b10b8dc",
   "metadata": {},
   "outputs": [],
   "source": [
    "import datetime as dt"
   ]
  },
  {
   "cell_type": "code",
   "execution_count": 1,
   "id": "c54c15d2",
   "metadata": {},
   "outputs": [],
   "source": [
    "opened_file = open('hacker_news.csv')"
   ]
  },
  {
   "cell_type": "code",
   "execution_count": 2,
   "id": "d7bbb46a",
   "metadata": {},
   "outputs": [],
   "source": [
    "from csv import reader\n",
    "file = reader(opened_file)\n",
    "hnews_list = list(file)"
   ]
  },
  {
   "cell_type": "code",
   "execution_count": 3,
   "id": "c5b8c860",
   "metadata": {
    "scrolled": false
   },
   "outputs": [
    {
     "data": {
      "text/plain": [
       "[['id', 'title', 'url', 'num_points', 'num_comments', 'author', 'created_at'],\n",
       " ['12224879',\n",
       "  'Interactive Dynamic Video',\n",
       "  'http://www.interactivedynamicvideo.com/',\n",
       "  '386',\n",
       "  '52',\n",
       "  'ne0phyte',\n",
       "  '8/4/2016 11:52'],\n",
       " ['10975351',\n",
       "  'How to Use Open Source and Shut the Fuck Up at the Same Time',\n",
       "  'http://hueniverse.com/2016/01/26/how-to-use-open-source-and-shut-the-fuck-up-at-the-same-time/',\n",
       "  '39',\n",
       "  '10',\n",
       "  'josep2',\n",
       "  '1/26/2016 19:30'],\n",
       " ['11964716',\n",
       "  \"Florida DJs May Face Felony for April Fools' Water Joke\",\n",
       "  'http://www.thewire.com/entertainment/2013/04/florida-djs-april-fools-water-joke/63798/',\n",
       "  '2',\n",
       "  '1',\n",
       "  'vezycash',\n",
       "  '6/23/2016 22:20'],\n",
       " ['11919867',\n",
       "  'Technology ventures: From Idea to Enterprise',\n",
       "  'https://www.amazon.com/Technology-Ventures-Enterprise-Thomas-Byers/dp/0073523429',\n",
       "  '3',\n",
       "  '1',\n",
       "  'hswarna',\n",
       "  '6/17/2016 0:01']]"
      ]
     },
     "execution_count": 3,
     "metadata": {},
     "output_type": "execute_result"
    }
   ],
   "source": [
    "hnews_list[:5]"
   ]
  },
  {
   "cell_type": "code",
   "execution_count": 5,
   "id": "f1b73565",
   "metadata": {},
   "outputs": [],
   "source": [
    "headers = hnews_list[0]\n",
    "hn = hnews_list[1:]"
   ]
  },
  {
   "cell_type": "code",
   "execution_count": 8,
   "id": "16a65fc2",
   "metadata": {},
   "outputs": [
    {
     "name": "stdout",
     "output_type": "stream",
     "text": [
      "['id', 'title', 'url', 'num_points', 'num_comments', 'author', 'created_at']\n"
     ]
    },
    {
     "data": {
      "text/plain": [
       "[['12224879',\n",
       "  'Interactive Dynamic Video',\n",
       "  'http://www.interactivedynamicvideo.com/',\n",
       "  '386',\n",
       "  '52',\n",
       "  'ne0phyte',\n",
       "  '8/4/2016 11:52'],\n",
       " ['10975351',\n",
       "  'How to Use Open Source and Shut the Fuck Up at the Same Time',\n",
       "  'http://hueniverse.com/2016/01/26/how-to-use-open-source-and-shut-the-fuck-up-at-the-same-time/',\n",
       "  '39',\n",
       "  '10',\n",
       "  'josep2',\n",
       "  '1/26/2016 19:30'],\n",
       " ['11964716',\n",
       "  \"Florida DJs May Face Felony for April Fools' Water Joke\",\n",
       "  'http://www.thewire.com/entertainment/2013/04/florida-djs-april-fools-water-joke/63798/',\n",
       "  '2',\n",
       "  '1',\n",
       "  'vezycash',\n",
       "  '6/23/2016 22:20']]"
      ]
     },
     "execution_count": 8,
     "metadata": {},
     "output_type": "execute_result"
    }
   ],
   "source": [
    "print(headers)\n",
    "hn[:3]"
   ]
  },
  {
   "cell_type": "code",
   "execution_count": 18,
   "id": "f9bf0a65",
   "metadata": {},
   "outputs": [],
   "source": [
    "ask_posts = []\n",
    "show_posts = []\n",
    "other_posts = []\n",
    "for row in hn:\n",
    "    title = row[1].lower()\n",
    "    if title.startswith(\"ask hn\"):\n",
    "        ask_posts.append(row)\n",
    "    elif title.startswith(\"show hn\"):\n",
    "        show_posts.append(row)\n",
    "    else:\n",
    "        other_posts.append(row)"
   ]
  },
  {
   "cell_type": "code",
   "execution_count": 19,
   "id": "ea2c567e",
   "metadata": {},
   "outputs": [
    {
     "name": "stdout",
     "output_type": "stream",
     "text": [
      "1744 1162 17194\n"
     ]
    }
   ],
   "source": [
    "print(len(ask_posts), len(show_posts), len(other_posts))"
   ]
  },
  {
   "cell_type": "code",
   "execution_count": 20,
   "id": "d847dc66",
   "metadata": {},
   "outputs": [
    {
     "data": {
      "text/plain": [
       "[['12296411',\n",
       "  'Ask HN: How to improve my personal website?',\n",
       "  '',\n",
       "  '2',\n",
       "  '6',\n",
       "  'ahmedbaracat',\n",
       "  '8/16/2016 9:55'],\n",
       " ['10610020',\n",
       "  'Ask HN: Am I the only one outraged by Twitter shutting down share counts?',\n",
       "  '',\n",
       "  '28',\n",
       "  '29',\n",
       "  'tkfx',\n",
       "  '11/22/2015 13:43'],\n",
       " ['11610310',\n",
       "  'Ask HN: Aby recent changes to CSS that broke mobile?',\n",
       "  '',\n",
       "  '1',\n",
       "  '1',\n",
       "  'polskibus',\n",
       "  '5/2/2016 10:14']]"
      ]
     },
     "execution_count": 20,
     "metadata": {},
     "output_type": "execute_result"
    }
   ],
   "source": [
    "ask_posts[:3]"
   ]
  },
  {
   "cell_type": "code",
   "execution_count": 21,
   "id": "f14bfa31",
   "metadata": {},
   "outputs": [
    {
     "data": {
      "text/plain": [
       "[['10627194',\n",
       "  'Show HN: Wio Link  ESP8266 Based Web of Things Hardware Development Platform',\n",
       "  'https://iot.seeed.cc',\n",
       "  '26',\n",
       "  '22',\n",
       "  'kfihihc',\n",
       "  '11/25/2015 14:03'],\n",
       " ['10646440',\n",
       "  'Show HN: Something pointless I made',\n",
       "  'http://dn.ht/picklecat/',\n",
       "  '747',\n",
       "  '102',\n",
       "  'dhotson',\n",
       "  '11/29/2015 22:46'],\n",
       " ['11590768',\n",
       "  'Show HN: Shanhu.io, a programming playground powered by e8vm',\n",
       "  'https://shanhu.io',\n",
       "  '1',\n",
       "  '1',\n",
       "  'h8liu',\n",
       "  '4/28/2016 18:05']]"
      ]
     },
     "execution_count": 21,
     "metadata": {},
     "output_type": "execute_result"
    }
   ],
   "source": [
    "show_posts[:3]"
   ]
  },
  {
   "cell_type": "markdown",
   "id": "a1336294",
   "metadata": {},
   "source": [
    "## Average number of comments per posts"
   ]
  },
  {
   "cell_type": "code",
   "execution_count": 23,
   "id": "2d157198",
   "metadata": {},
   "outputs": [
    {
     "name": "stdout",
     "output_type": "stream",
     "text": [
      "Number of average ask comments = 14.038417431192661\n",
      "Number of average show comment = 10.31669535283993\n"
     ]
    }
   ],
   "source": [
    "def avg_num_comments(posts):\n",
    "    total = 0\n",
    "    for row in posts:\n",
    "        num = int(row[4])\n",
    "        total += num\n",
    "    return total/len(posts)\n",
    "\n",
    "avg_ask_comments = avg_num_comments(ask_posts)\n",
    "avg_show_comments = avg_num_comments(show_posts)\n",
    "\n",
    "print(f\"Number of average ask comments = {avg_ask_comments}\\nNumber of average show comment = {avg_show_comments}\")"
   ]
  },
  {
   "cell_type": "code",
   "execution_count": 31,
   "id": "256c0b8d",
   "metadata": {},
   "outputs": [],
   "source": [
    "result_lists = []\n",
    "\n",
    "for row in ask_posts:\n",
    "    t = row[6]\n",
    "    c = int(row[4])\n",
    "    result_lists.append([t, c])"
   ]
  },
  {
   "cell_type": "code",
   "execution_count": 34,
   "id": "1f05dfbf",
   "metadata": {},
   "outputs": [],
   "source": [
    "counts_by_hour = {}\n",
    "comments_by_hour = {}\n",
    "\n",
    "for row in result_lists:\n",
    "    date, hour = row[0].split()\n",
    "    hour = hour[:hour.index(\":\")]\n",
    "    time = dt.datetime.strptime(row[0], \"%m/%d/%Y %H:%M\")\n",
    "    if hour not in counts_by_hour:\n",
    "        counts_by_hour[hour] = 1\n",
    "        comments_by_hour[hour] = row[1]\n",
    "    else:\n",
    "        counts_by_hour[hour] += 1\n",
    "        comments_by_hour[hour] += row[1]"
   ]
  },
  {
   "cell_type": "code",
   "execution_count": 36,
   "id": "0df5cb6a",
   "metadata": {},
   "outputs": [
    {
     "data": {
      "text/plain": [
       "{'9': 45,\n",
       " '13': 85,\n",
       " '10': 59,\n",
       " '14': 107,\n",
       " '16': 108,\n",
       " '23': 68,\n",
       " '12': 73,\n",
       " '17': 100,\n",
       " '15': 116,\n",
       " '21': 109,\n",
       " '20': 80,\n",
       " '2': 58,\n",
       " '18': 109,\n",
       " '3': 54,\n",
       " '5': 46,\n",
       " '19': 110,\n",
       " '1': 60,\n",
       " '22': 71,\n",
       " '8': 48,\n",
       " '4': 47,\n",
       " '0': 55,\n",
       " '6': 44,\n",
       " '7': 34,\n",
       " '11': 58}"
      ]
     },
     "execution_count": 36,
     "metadata": {},
     "output_type": "execute_result"
    }
   ],
   "source": [
    "counts_by_hour"
   ]
  },
  {
   "cell_type": "code",
   "execution_count": 37,
   "id": "8161bee2",
   "metadata": {},
   "outputs": [
    {
     "data": {
      "text/plain": [
       "{'9': 251,\n",
       " '13': 1253,\n",
       " '10': 793,\n",
       " '14': 1416,\n",
       " '16': 1814,\n",
       " '23': 543,\n",
       " '12': 687,\n",
       " '17': 1146,\n",
       " '15': 4477,\n",
       " '21': 1745,\n",
       " '20': 1722,\n",
       " '2': 1381,\n",
       " '18': 1439,\n",
       " '3': 421,\n",
       " '5': 464,\n",
       " '19': 1188,\n",
       " '1': 683,\n",
       " '22': 479,\n",
       " '8': 492,\n",
       " '4': 337,\n",
       " '0': 447,\n",
       " '6': 397,\n",
       " '7': 267,\n",
       " '11': 641}"
      ]
     },
     "execution_count": 37,
     "metadata": {},
     "output_type": "execute_result"
    }
   ],
   "source": [
    "comments_by_hour"
   ]
  },
  {
   "cell_type": "markdown",
   "id": "3bb7b621",
   "metadata": {},
   "source": [
    "## Average number of comments in Ask Posts by hour"
   ]
  },
  {
   "cell_type": "code",
   "execution_count": 38,
   "id": "8139404e",
   "metadata": {},
   "outputs": [
    {
     "data": {
      "text/plain": [
       "[['9', 5.5777777777777775],\n",
       " ['13', 14.741176470588234],\n",
       " ['10', 13.440677966101696],\n",
       " ['14', 13.233644859813085],\n",
       " ['16', 16.796296296296298],\n",
       " ['23', 7.985294117647059],\n",
       " ['12', 9.41095890410959],\n",
       " ['17', 11.46],\n",
       " ['15', 38.5948275862069],\n",
       " ['21', 16.009174311926607],\n",
       " ['20', 21.525],\n",
       " ['2', 23.810344827586206],\n",
       " ['18', 13.20183486238532],\n",
       " ['3', 7.796296296296297],\n",
       " ['5', 10.08695652173913],\n",
       " ['19', 10.8],\n",
       " ['1', 11.383333333333333],\n",
       " ['22', 6.746478873239437],\n",
       " ['8', 10.25],\n",
       " ['4', 7.170212765957447],\n",
       " ['0', 8.127272727272727],\n",
       " ['6', 9.022727272727273],\n",
       " ['7', 7.852941176470588],\n",
       " ['11', 11.051724137931034]]"
      ]
     },
     "execution_count": 38,
     "metadata": {},
     "output_type": "execute_result"
    }
   ],
   "source": [
    "avg_by_hour = []\n",
    "for key, value in counts_by_hour.items():\n",
    "    posts = value\n",
    "    avg_by_hour.append([key, comments_by_hour[key]/value])\n",
    "    \n",
    "print(avg_by_hour)"
   ]
  },
  {
   "cell_type": "code",
   "execution_count": 46,
   "id": "69f99669",
   "metadata": {},
   "outputs": [
    {
     "name": "stdout",
     "output_type": "stream",
     "text": [
      "[[38.5948275862069, '15'], [23.810344827586206, '2'], [21.525, '20'], [16.796296296296298, '16'], [16.009174311926607, '21']]\n"
     ]
    }
   ],
   "source": [
    "swap_avg_by_hour = []\n",
    "for row in avg_by_hour:\n",
    "    swap_avg_by_hour.append([row[1], row[0]])\n",
    "print(\"Top 5 hours for ask post comments\")\n",
    "print(sorted(swap_avg_by_hour, reverse = True)[:5])"
   ]
  },
  {
   "cell_type": "code",
   "execution_count": 54,
   "id": "cfe4c777",
   "metadata": {},
   "outputs": [
    {
     "name": "stdout",
     "output_type": "stream",
     "text": [
      "15:00: 38.59 average comments per post\n",
      "02:00: 23.81 average comments per post\n",
      "20:00: 21.52 average comments per post\n",
      "16:00: 16.80 average comments per post\n",
      "21:00: 16.01 average comments per post\n"
     ]
    }
   ],
   "source": [
    "for row in sorted(swap_avg_by_hour, reverse = True)[:5]:\n",
    "    time = dt.datetime.strptime(row[1], \"%H\")\n",
    "    time = time.strftime(\"%H:%M\")\n",
    "    print(f\"{time}: {row[0]:.2f} average comments per post\")"
   ]
  },
  {
   "cell_type": "markdown",
   "id": "7b8035f6",
   "metadata": {},
   "source": [
    "## Conclusion\n",
    "We analyzed the dataset and discovered a number of interesting things.\n",
    "- ask posts on average get more comments per post, which is an indicator that users on hacker news are willing to help other users.\n",
    "- found the list of hours in which ask posts will receive the most engagement(comments)."
   ]
  }
 ],
 "metadata": {
  "kernelspec": {
   "display_name": "Python 3 (ipykernel)",
   "language": "python",
   "name": "python3"
  },
  "language_info": {
   "codemirror_mode": {
    "name": "ipython",
    "version": 3
   },
   "file_extension": ".py",
   "mimetype": "text/x-python",
   "name": "python",
   "nbconvert_exporter": "python",
   "pygments_lexer": "ipython3",
   "version": "3.10.9"
  }
 },
 "nbformat": 4,
 "nbformat_minor": 5
}

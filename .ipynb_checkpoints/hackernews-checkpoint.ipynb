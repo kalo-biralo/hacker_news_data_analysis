{
 "cells": [
  {
   "cell_type": "markdown",
   "id": "f3f0c727",
   "metadata": {},
   "source": [
    "# Getting the most engagement on your post: An analysis on HackerNews\n",
    "\n",
    "This project aims to analyze the dataset describing the user posts in the website HackerNews in order to find the best time to ask a question or show interesting things on HackerNews.\n",
    "We will focus on \n",
    "- number of ask posts vs number of show posts\n",
    "- average comments and counts per posts\n",
    "- the time of day where there is most engagement\n",
    "\n",
    "## Summary of the result\n",
    "- on average ask posts receive more comments\n",
    "- 15:00 is the best time to ask a question on Hacker News"
   ]
  },
  {
   "cell_type": "code",
   "execution_count": 2,
   "id": "4b10b8dc",
   "metadata": {},
   "outputs": [],
   "source": [
    "import datetime as dt\n",
    "import pandas as pd\n",
    "import matplotlib.pyplot as plt\n",
    "%matplotlib inline"
   ]
  },
  {
   "cell_type": "code",
   "execution_count": 3,
   "id": "d7bbb46a",
   "metadata": {},
   "outputs": [],
   "source": [
    "hnews_list = pd.read_csv(\"hacker_news.csv\")"
   ]
  },
  {
   "cell_type": "code",
   "execution_count": 4,
   "id": "c5b8c860",
   "metadata": {
    "scrolled": false
   },
   "outputs": [
    {
     "data": {
      "text/html": [
       "<div>\n",
       "<style scoped>\n",
       "    .dataframe tbody tr th:only-of-type {\n",
       "        vertical-align: middle;\n",
       "    }\n",
       "\n",
       "    .dataframe tbody tr th {\n",
       "        vertical-align: top;\n",
       "    }\n",
       "\n",
       "    .dataframe thead th {\n",
       "        text-align: right;\n",
       "    }\n",
       "</style>\n",
       "<table border=\"1\" class=\"dataframe\">\n",
       "  <thead>\n",
       "    <tr style=\"text-align: right;\">\n",
       "      <th></th>\n",
       "      <th>id</th>\n",
       "      <th>title</th>\n",
       "      <th>url</th>\n",
       "      <th>num_points</th>\n",
       "      <th>num_comments</th>\n",
       "      <th>author</th>\n",
       "      <th>created_at</th>\n",
       "    </tr>\n",
       "  </thead>\n",
       "  <tbody>\n",
       "    <tr>\n",
       "      <th>0</th>\n",
       "      <td>12224879</td>\n",
       "      <td>Interactive Dynamic Video</td>\n",
       "      <td>http://www.interactivedynamicvideo.com/</td>\n",
       "      <td>386</td>\n",
       "      <td>52</td>\n",
       "      <td>ne0phyte</td>\n",
       "      <td>8/4/2016 11:52</td>\n",
       "    </tr>\n",
       "    <tr>\n",
       "      <th>1</th>\n",
       "      <td>10975351</td>\n",
       "      <td>How to Use Open Source and Shut the Fuck Up at...</td>\n",
       "      <td>http://hueniverse.com/2016/01/26/how-to-use-op...</td>\n",
       "      <td>39</td>\n",
       "      <td>10</td>\n",
       "      <td>josep2</td>\n",
       "      <td>1/26/2016 19:30</td>\n",
       "    </tr>\n",
       "    <tr>\n",
       "      <th>2</th>\n",
       "      <td>11964716</td>\n",
       "      <td>Florida DJs May Face Felony for April Fools' W...</td>\n",
       "      <td>http://www.thewire.com/entertainment/2013/04/f...</td>\n",
       "      <td>2</td>\n",
       "      <td>1</td>\n",
       "      <td>vezycash</td>\n",
       "      <td>6/23/2016 22:20</td>\n",
       "    </tr>\n",
       "    <tr>\n",
       "      <th>3</th>\n",
       "      <td>11919867</td>\n",
       "      <td>Technology ventures: From Idea to Enterprise</td>\n",
       "      <td>https://www.amazon.com/Technology-Ventures-Ent...</td>\n",
       "      <td>3</td>\n",
       "      <td>1</td>\n",
       "      <td>hswarna</td>\n",
       "      <td>6/17/2016 0:01</td>\n",
       "    </tr>\n",
       "    <tr>\n",
       "      <th>4</th>\n",
       "      <td>10301696</td>\n",
       "      <td>Note by Note: The Making of Steinway L1037 (2007)</td>\n",
       "      <td>http://www.nytimes.com/2007/11/07/movies/07ste...</td>\n",
       "      <td>8</td>\n",
       "      <td>2</td>\n",
       "      <td>walterbell</td>\n",
       "      <td>9/30/2015 4:12</td>\n",
       "    </tr>\n",
       "  </tbody>\n",
       "</table>\n",
       "</div>"
      ],
      "text/plain": [
       "         id                                              title  \\\n",
       "0  12224879                          Interactive Dynamic Video   \n",
       "1  10975351  How to Use Open Source and Shut the Fuck Up at...   \n",
       "2  11964716  Florida DJs May Face Felony for April Fools' W...   \n",
       "3  11919867       Technology ventures: From Idea to Enterprise   \n",
       "4  10301696  Note by Note: The Making of Steinway L1037 (2007)   \n",
       "\n",
       "                                                 url  num_points  \\\n",
       "0            http://www.interactivedynamicvideo.com/         386   \n",
       "1  http://hueniverse.com/2016/01/26/how-to-use-op...          39   \n",
       "2  http://www.thewire.com/entertainment/2013/04/f...           2   \n",
       "3  https://www.amazon.com/Technology-Ventures-Ent...           3   \n",
       "4  http://www.nytimes.com/2007/11/07/movies/07ste...           8   \n",
       "\n",
       "   num_comments      author       created_at  \n",
       "0            52    ne0phyte   8/4/2016 11:52  \n",
       "1            10      josep2  1/26/2016 19:30  \n",
       "2             1    vezycash  6/23/2016 22:20  \n",
       "3             1     hswarna   6/17/2016 0:01  \n",
       "4             2  walterbell   9/30/2015 4:12  "
      ]
     },
     "execution_count": 4,
     "metadata": {},
     "output_type": "execute_result"
    }
   ],
   "source": [
    "hnews_list.head()"
   ]
  },
  {
   "cell_type": "code",
   "execution_count": 5,
   "id": "f1b73565",
   "metadata": {},
   "outputs": [
    {
     "name": "stdout",
     "output_type": "stream",
     "text": [
      "<class 'pandas.core.frame.DataFrame'>\n",
      "RangeIndex: 20100 entries, 0 to 20099\n",
      "Data columns (total 7 columns):\n",
      " #   Column        Non-Null Count  Dtype \n",
      "---  ------        --------------  ----- \n",
      " 0   id            20100 non-null  int64 \n",
      " 1   title         20100 non-null  object\n",
      " 2   url           17660 non-null  object\n",
      " 3   num_points    20100 non-null  int64 \n",
      " 4   num_comments  20100 non-null  int64 \n",
      " 5   author        20100 non-null  object\n",
      " 6   created_at    20100 non-null  object\n",
      "dtypes: int64(3), object(4)\n",
      "memory usage: 1.1+ MB\n"
     ]
    }
   ],
   "source": [
    "hnews_list.info()"
   ]
  },
  {
   "cell_type": "code",
   "execution_count": 6,
   "id": "3eaa8906",
   "metadata": {},
   "outputs": [
    {
     "data": {
      "text/plain": [
       "0                            Interactive Dynamic Video\n",
       "1    How to Use Open Source and Shut the Fuck Up at...\n",
       "2    Florida DJs May Face Felony for April Fools' W...\n",
       "3         Technology ventures: From Idea to Enterprise\n",
       "4    Note by Note: The Making of Steinway L1037 (2007)\n",
       "Name: title, dtype: object"
      ]
     },
     "execution_count": 6,
     "metadata": {},
     "output_type": "execute_result"
    }
   ],
   "source": [
    "hnews_list[\"title\"].head()"
   ]
  },
  {
   "cell_type": "code",
   "execution_count": 7,
   "id": "d67a918a",
   "metadata": {},
   "outputs": [],
   "source": [
    "ask_posts = hnews_list[hnews_list[\"title\"].str.lower().str.startswith(\"ask hn\")]\n",
    "show_posts = hnews_list[hnews_list[\"title\"].str.lower().str.startswith(\"show hn\")]\n",
    "other_posts = pd.concat([hnews_list, pd.concat([ask_posts, show_posts])]).drop_duplicates(keep = False)"
   ]
  },
  {
   "cell_type": "code",
   "execution_count": 8,
   "id": "ea2c567e",
   "metadata": {},
   "outputs": [
    {
     "name": "stdout",
     "output_type": "stream",
     "text": [
      "1744 1162 17194\n"
     ]
    }
   ],
   "source": [
    "print(len(ask_posts), len(show_posts), len(other_posts))"
   ]
  },
  {
   "cell_type": "code",
   "execution_count": 9,
   "id": "d847dc66",
   "metadata": {},
   "outputs": [
    {
     "data": {
      "text/html": [
       "<div>\n",
       "<style scoped>\n",
       "    .dataframe tbody tr th:only-of-type {\n",
       "        vertical-align: middle;\n",
       "    }\n",
       "\n",
       "    .dataframe tbody tr th {\n",
       "        vertical-align: top;\n",
       "    }\n",
       "\n",
       "    .dataframe thead th {\n",
       "        text-align: right;\n",
       "    }\n",
       "</style>\n",
       "<table border=\"1\" class=\"dataframe\">\n",
       "  <thead>\n",
       "    <tr style=\"text-align: right;\">\n",
       "      <th></th>\n",
       "      <th>id</th>\n",
       "      <th>title</th>\n",
       "      <th>url</th>\n",
       "      <th>num_points</th>\n",
       "      <th>num_comments</th>\n",
       "      <th>author</th>\n",
       "      <th>created_at</th>\n",
       "    </tr>\n",
       "  </thead>\n",
       "  <tbody>\n",
       "    <tr>\n",
       "      <th>0</th>\n",
       "      <td>12224879</td>\n",
       "      <td>Interactive Dynamic Video</td>\n",
       "      <td>http://www.interactivedynamicvideo.com/</td>\n",
       "      <td>386</td>\n",
       "      <td>52</td>\n",
       "      <td>ne0phyte</td>\n",
       "      <td>8/4/2016 11:52</td>\n",
       "    </tr>\n",
       "    <tr>\n",
       "      <th>1</th>\n",
       "      <td>10975351</td>\n",
       "      <td>How to Use Open Source and Shut the Fuck Up at...</td>\n",
       "      <td>http://hueniverse.com/2016/01/26/how-to-use-op...</td>\n",
       "      <td>39</td>\n",
       "      <td>10</td>\n",
       "      <td>josep2</td>\n",
       "      <td>1/26/2016 19:30</td>\n",
       "    </tr>\n",
       "    <tr>\n",
       "      <th>2</th>\n",
       "      <td>11964716</td>\n",
       "      <td>Florida DJs May Face Felony for April Fools' W...</td>\n",
       "      <td>http://www.thewire.com/entertainment/2013/04/f...</td>\n",
       "      <td>2</td>\n",
       "      <td>1</td>\n",
       "      <td>vezycash</td>\n",
       "      <td>6/23/2016 22:20</td>\n",
       "    </tr>\n",
       "  </tbody>\n",
       "</table>\n",
       "</div>"
      ],
      "text/plain": [
       "         id                                              title  \\\n",
       "0  12224879                          Interactive Dynamic Video   \n",
       "1  10975351  How to Use Open Source and Shut the Fuck Up at...   \n",
       "2  11964716  Florida DJs May Face Felony for April Fools' W...   \n",
       "\n",
       "                                                 url  num_points  \\\n",
       "0            http://www.interactivedynamicvideo.com/         386   \n",
       "1  http://hueniverse.com/2016/01/26/how-to-use-op...          39   \n",
       "2  http://www.thewire.com/entertainment/2013/04/f...           2   \n",
       "\n",
       "   num_comments    author       created_at  \n",
       "0            52  ne0phyte   8/4/2016 11:52  \n",
       "1            10    josep2  1/26/2016 19:30  \n",
       "2             1  vezycash  6/23/2016 22:20  "
      ]
     },
     "execution_count": 9,
     "metadata": {},
     "output_type": "execute_result"
    }
   ],
   "source": [
    "other_posts[:3]"
   ]
  },
  {
   "cell_type": "code",
   "execution_count": 10,
   "id": "f14bfa31",
   "metadata": {},
   "outputs": [
    {
     "data": {
      "text/html": [
       "<div>\n",
       "<style scoped>\n",
       "    .dataframe tbody tr th:only-of-type {\n",
       "        vertical-align: middle;\n",
       "    }\n",
       "\n",
       "    .dataframe tbody tr th {\n",
       "        vertical-align: top;\n",
       "    }\n",
       "\n",
       "    .dataframe thead th {\n",
       "        text-align: right;\n",
       "    }\n",
       "</style>\n",
       "<table border=\"1\" class=\"dataframe\">\n",
       "  <thead>\n",
       "    <tr style=\"text-align: right;\">\n",
       "      <th></th>\n",
       "      <th>id</th>\n",
       "      <th>title</th>\n",
       "      <th>url</th>\n",
       "      <th>num_points</th>\n",
       "      <th>num_comments</th>\n",
       "      <th>author</th>\n",
       "      <th>created_at</th>\n",
       "    </tr>\n",
       "  </thead>\n",
       "  <tbody>\n",
       "    <tr>\n",
       "      <th>13</th>\n",
       "      <td>10627194</td>\n",
       "      <td>Show HN: Wio Link  ESP8266 Based Web of Things...</td>\n",
       "      <td>https://iot.seeed.cc</td>\n",
       "      <td>26</td>\n",
       "      <td>22</td>\n",
       "      <td>kfihihc</td>\n",
       "      <td>11/25/2015 14:03</td>\n",
       "    </tr>\n",
       "    <tr>\n",
       "      <th>39</th>\n",
       "      <td>10646440</td>\n",
       "      <td>Show HN: Something pointless I made</td>\n",
       "      <td>http://dn.ht/picklecat/</td>\n",
       "      <td>747</td>\n",
       "      <td>102</td>\n",
       "      <td>dhotson</td>\n",
       "      <td>11/29/2015 22:46</td>\n",
       "    </tr>\n",
       "    <tr>\n",
       "      <th>46</th>\n",
       "      <td>11590768</td>\n",
       "      <td>Show HN: Shanhu.io, a programming playground p...</td>\n",
       "      <td>https://shanhu.io</td>\n",
       "      <td>1</td>\n",
       "      <td>1</td>\n",
       "      <td>h8liu</td>\n",
       "      <td>4/28/2016 18:05</td>\n",
       "    </tr>\n",
       "    <tr>\n",
       "      <th>84</th>\n",
       "      <td>12178806</td>\n",
       "      <td>Show HN: Webscope  Easy way for web developers...</td>\n",
       "      <td>http://webscopeapp.com</td>\n",
       "      <td>3</td>\n",
       "      <td>3</td>\n",
       "      <td>fastbrick</td>\n",
       "      <td>7/28/2016 7:11</td>\n",
       "    </tr>\n",
       "    <tr>\n",
       "      <th>97</th>\n",
       "      <td>10872799</td>\n",
       "      <td>Show HN: GeoScreenshot  Easily test Geo-IP bas...</td>\n",
       "      <td>https://www.geoscreenshot.com/</td>\n",
       "      <td>1</td>\n",
       "      <td>9</td>\n",
       "      <td>kpsychwave</td>\n",
       "      <td>1/9/2016 20:45</td>\n",
       "    </tr>\n",
       "  </tbody>\n",
       "</table>\n",
       "</div>"
      ],
      "text/plain": [
       "          id                                              title  \\\n",
       "13  10627194  Show HN: Wio Link  ESP8266 Based Web of Things...   \n",
       "39  10646440                Show HN: Something pointless I made   \n",
       "46  11590768  Show HN: Shanhu.io, a programming playground p...   \n",
       "84  12178806  Show HN: Webscope  Easy way for web developers...   \n",
       "97  10872799  Show HN: GeoScreenshot  Easily test Geo-IP bas...   \n",
       "\n",
       "                               url  num_points  num_comments      author  \\\n",
       "13            https://iot.seeed.cc          26            22     kfihihc   \n",
       "39         http://dn.ht/picklecat/         747           102     dhotson   \n",
       "46               https://shanhu.io           1             1       h8liu   \n",
       "84          http://webscopeapp.com           3             3   fastbrick   \n",
       "97  https://www.geoscreenshot.com/           1             9  kpsychwave   \n",
       "\n",
       "          created_at  \n",
       "13  11/25/2015 14:03  \n",
       "39  11/29/2015 22:46  \n",
       "46   4/28/2016 18:05  \n",
       "84    7/28/2016 7:11  \n",
       "97    1/9/2016 20:45  "
      ]
     },
     "execution_count": 10,
     "metadata": {},
     "output_type": "execute_result"
    }
   ],
   "source": [
    "show_posts.head()"
   ]
  },
  {
   "cell_type": "markdown",
   "id": "a1336294",
   "metadata": {},
   "source": [
    "## Average number of comments per posts"
   ]
  },
  {
   "cell_type": "code",
   "execution_count": 13,
   "id": "c63be394",
   "metadata": {},
   "outputs": [
    {
     "data": {
      "text/plain": [
       "num_points      15.061927\n",
       "num_comments    14.038417\n",
       "dtype: float64"
      ]
     },
     "execution_count": 13,
     "metadata": {},
     "output_type": "execute_result"
    }
   ],
   "source": [
    "ask_posts.loc[:, [\"num_points\", \"num_comments\"]].mean(numeric_only = True)"
   ]
  },
  {
   "cell_type": "code",
   "execution_count": 14,
   "id": "e4c0de9b",
   "metadata": {},
   "outputs": [
    {
     "data": {
      "text/plain": [
       "num_points      27.555077\n",
       "num_comments    10.316695\n",
       "dtype: float64"
      ]
     },
     "execution_count": 14,
     "metadata": {},
     "output_type": "execute_result"
    }
   ],
   "source": [
    "show_posts.loc[:, [\"num_points\", \"num_comments\"]].mean(numeric_only = True)"
   ]
  },
  {
   "cell_type": "code",
   "execution_count": 15,
   "id": "16e9f9e1",
   "metadata": {},
   "outputs": [
    {
     "name": "stderr",
     "output_type": "stream",
     "text": [
      "C:\\Users\\Prashjeev\\AppData\\Local\\Temp\\ipykernel_10260\\1793579029.py:1: SettingWithCopyWarning: \n",
      "A value is trying to be set on a copy of a slice from a DataFrame.\n",
      "Try using .loc[row_indexer,col_indexer] = value instead\n",
      "\n",
      "See the caveats in the documentation: https://pandas.pydata.org/pandas-docs/stable/user_guide/indexing.html#returning-a-view-versus-a-copy\n",
      "  ask_posts[\"created_at\"] = pd.to_datetime(ask_posts[\"created_at\"], format = \"%m/%d/%Y %H:%M\")\n"
     ]
    }
   ],
   "source": [
    "ask_posts[\"created_at\"] = pd.to_datetime(ask_posts[\"created_at\"], format = \"%m/%d/%Y %H:%M\")"
   ]
  },
  {
   "cell_type": "code",
   "execution_count": 21,
   "id": "7b545d74",
   "metadata": {
    "scrolled": true
   },
   "outputs": [
    {
     "name": "stderr",
     "output_type": "stream",
     "text": [
      "C:\\Users\\Prashjeev\\AppData\\Local\\Temp\\ipykernel_10260\\1856746366.py:1: SettingWithCopyWarning: \n",
      "A value is trying to be set on a copy of a slice from a DataFrame.\n",
      "Try using .loc[row_indexer,col_indexer] = value instead\n",
      "\n",
      "See the caveats in the documentation: https://pandas.pydata.org/pandas-docs/stable/user_guide/indexing.html#returning-a-view-versus-a-copy\n",
      "  ask_posts[\"hour\"] = ask_posts[\"created_at\"].dt.hour\n"
     ]
    }
   ],
   "source": [
    "ask_posts[\"hour\"] = ask_posts[\"created_at\"].dt.hour"
   ]
  },
  {
   "cell_type": "code",
   "execution_count": 44,
   "id": "1dbedb12",
   "metadata": {},
   "outputs": [
    {
     "name": "stderr",
     "output_type": "stream",
     "text": [
      "C:\\Users\\Prashjeev\\AppData\\Local\\Temp\\ipykernel_10260\\872350967.py:1: SettingWithCopyWarning: \n",
      "A value is trying to be set on a copy of a slice from a DataFrame.\n",
      "Try using .loc[row_indexer,col_indexer] = value instead\n",
      "\n",
      "See the caveats in the documentation: https://pandas.pydata.org/pandas-docs/stable/user_guide/indexing.html#returning-a-view-versus-a-copy\n",
      "  ask_posts[\"hour\"] = ask_posts[\"hour\"].astype(int)\n"
     ]
    }
   ],
   "source": [
    "ask_posts[\"hour\"] = ask_posts[\"hour\"].astype(int)"
   ]
  },
  {
   "cell_type": "code",
   "execution_count": 47,
   "id": "2bb43dee",
   "metadata": {},
   "outputs": [
    {
     "data": {
      "text/plain": [
       "array([ 9, 13, 10, 14, 16, 23, 12, 17, 15, 21, 20,  2, 18,  3,  5, 19,  1,\n",
       "       22,  8,  4,  0,  6,  7, 11])"
      ]
     },
     "execution_count": 47,
     "metadata": {},
     "output_type": "execute_result"
    }
   ],
   "source": [
    "ask_posts[\"hour\"].unique()"
   ]
  },
  {
   "cell_type": "code",
   "execution_count": 46,
   "id": "3921e3b9",
   "metadata": {},
   "outputs": [
    {
     "data": {
      "text/plain": [
       "hour  num_comments\n",
       "14    1               29\n",
       "15    1               26\n",
       "21    1               23\n",
       "19    1               22\n",
       "17    2               20\n",
       "                      ..\n",
       "12    11               1\n",
       "11    266              1\n",
       "      128              1\n",
       "      29               1\n",
       "23    65               1\n",
       "Length: 521, dtype: int64"
      ]
     },
     "execution_count": 46,
     "metadata": {},
     "output_type": "execute_result"
    }
   ],
   "source": [
    "ask_posts[[\"hour\", \"num_comments\"]].value_counts()"
   ]
  },
  {
   "cell_type": "code",
   "execution_count": 19,
   "id": "676985d8",
   "metadata": {
    "scrolled": true
   },
   "outputs": [
    {
     "name": "stderr",
     "output_type": "stream",
     "text": [
      "C:\\Users\\Prashjeev\\AppData\\Local\\Temp\\ipykernel_10260\\2273264343.py:1: SettingWithCopyWarning: \n",
      "A value is trying to be set on a copy of a slice from a DataFrame.\n",
      "Try using .loc[row_indexer,col_indexer] = value instead\n",
      "\n",
      "See the caveats in the documentation: https://pandas.pydata.org/pandas-docs/stable/user_guide/indexing.html#returning-a-view-versus-a-copy\n",
      "  show_posts[\"created_at\"] = pd.to_datetime(show_posts[\"created_at\"], format = \"%m/%d/%Y %H:%M\")\n"
     ]
    }
   ],
   "source": [
    "show_posts[\"created_at\"] = pd.to_datetime(show_posts[\"created_at\"], format = \"%m/%d/%Y %H:%M\")"
   ]
  },
  {
   "cell_type": "code",
   "execution_count": 28,
   "id": "abee9504",
   "metadata": {},
   "outputs": [
    {
     "name": "stderr",
     "output_type": "stream",
     "text": [
      "C:\\Users\\Prashjeev\\AppData\\Local\\Temp\\ipykernel_10260\\3022911397.py:1: SettingWithCopyWarning: \n",
      "A value is trying to be set on a copy of a slice from a DataFrame.\n",
      "Try using .loc[row_indexer,col_indexer] = value instead\n",
      "\n",
      "See the caveats in the documentation: https://pandas.pydata.org/pandas-docs/stable/user_guide/indexing.html#returning-a-view-versus-a-copy\n",
      "  show_posts[\"hour\"] = ask_posts[\"created_at\"].dt.hour\n"
     ]
    }
   ],
   "source": [
    "show_posts[\"hour\"] = ask_posts[\"created_at\"].dt.hour"
   ]
  },
  {
   "cell_type": "code",
   "execution_count": 45,
   "id": "50dbcac8",
   "metadata": {},
   "outputs": [
    {
     "data": {
      "image/png": "[encoded data removed]",
      "text/plain": [
       "<Figure size 640x480 with 1 Axes>"
      ]
     },
     "metadata": {},
     "output_type": "display_data"
    }
   ],
   "source": [
    "ask_posts.plot.bar(x = \"hour\", y = \"num_comments\", label = \"ask posts\")\n",
    "plt.show()"
   ]
  },
  {
   "cell_type": "code",
   "execution_count": 37,
   "id": "8161bee2",
   "metadata": {},
   "outputs": [
    {
     "data": {
      "text/plain": [
       "{'9': 251,\n",
       " '13': 1253,\n",
       " '10': 793,\n",
       " '14': 1416,\n",
       " '16': 1814,\n",
       " '23': 543,\n",
       " '12': 687,\n",
       " '17': 1146,\n",
       " '15': 4477,\n",
       " '21': 1745,\n",
       " '20': 1722,\n",
       " '2': 1381,\n",
       " '18': 1439,\n",
       " '3': 421,\n",
       " '5': 464,\n",
       " '19': 1188,\n",
       " '1': 683,\n",
       " '22': 479,\n",
       " '8': 492,\n",
       " '4': 337,\n",
       " '0': 447,\n",
       " '6': 397,\n",
       " '7': 267,\n",
       " '11': 641}"
      ]
     },
     "execution_count": 37,
     "metadata": {},
     "output_type": "execute_result"
    }
   ],
   "source": [
    "comments_by_hour"
   ]
  },
  {
   "cell_type": "markdown",
   "id": "3bb7b621",
   "metadata": {},
   "source": [
    "## Average number of comments in Ask Posts by hour"
   ]
  },
  {
   "cell_type": "code",
   "execution_count": 38,
   "id": "8139404e",
   "metadata": {},
   "outputs": [
    {
     "data": {
      "text/plain": [
       "[['9', 5.5777777777777775],\n",
       " ['13', 14.741176470588234],\n",
       " ['10', 13.440677966101696],\n",
       " ['14', 13.233644859813085],\n",
       " ['16', 16.796296296296298],\n",
       " ['23', 7.985294117647059],\n",
       " ['12', 9.41095890410959],\n",
       " ['17', 11.46],\n",
       " ['15', 38.5948275862069],\n",
       " ['21', 16.009174311926607],\n",
       " ['20', 21.525],\n",
       " ['2', 23.810344827586206],\n",
       " ['18', 13.20183486238532],\n",
       " ['3', 7.796296296296297],\n",
       " ['5', 10.08695652173913],\n",
       " ['19', 10.8],\n",
       " ['1', 11.383333333333333],\n",
       " ['22', 6.746478873239437],\n",
       " ['8', 10.25],\n",
       " ['4', 7.170212765957447],\n",
       " ['0', 8.127272727272727],\n",
       " ['6', 9.022727272727273],\n",
       " ['7', 7.852941176470588],\n",
       " ['11', 11.051724137931034]]"
      ]
     },
     "execution_count": 38,
     "metadata": {},
     "output_type": "execute_result"
    }
   ],
   "source": [
    "avg_by_hour = []\n",
    "for key, value in counts_by_hour.items():\n",
    "    posts = value\n",
    "    avg_by_hour.append([key, comments_by_hour[key]/value])\n",
    "    \n",
    "print(avg_by_hour)"
   ]
  },
  {
   "cell_type": "code",
   "execution_count": 46,
   "id": "69f99669",
   "metadata": {},
   "outputs": [
    {
     "name": "stdout",
     "output_type": "stream",
     "text": [
      "[[38.5948275862069, '15'], [23.810344827586206, '2'], [21.525, '20'], [16.796296296296298, '16'], [16.009174311926607, '21']]\n"
     ]
    }
   ],
   "source": [
    "swap_avg_by_hour = []\n",
    "for row in avg_by_hour:\n",
    "    swap_avg_by_hour.append([row[1], row[0]])\n",
    "print(\"Top 5 hours for ask post comments\")\n",
    "print(sorted(swap_avg_by_hour, reverse = True)[:5])"
   ]
  },
  {
   "cell_type": "code",
   "execution_count": 54,
   "id": "cfe4c777",
   "metadata": {},
   "outputs": [
    {
     "name": "stdout",
     "output_type": "stream",
     "text": [
      "15:00: 38.59 average comments per post\n",
      "02:00: 23.81 average comments per post\n",
      "20:00: 21.52 average comments per post\n",
      "16:00: 16.80 average comments per post\n",
      "21:00: 16.01 average comments per post\n"
     ]
    }
   ],
   "source": [
    "for row in sorted(swap_avg_by_hour, reverse = True)[:5]:\n",
    "    time = dt.datetime.strptime(row[1], \"%H\")\n",
    "    time = time.strftime(\"%H:%M\")\n",
    "    print(f\"{time}: {row[0]:.2f} average comments per post\")"
   ]
  },
  {
   "cell_type": "markdown",
   "id": "7b8035f6",
   "metadata": {},
   "source": [
    "## Conclusion\n",
    "We analyzed the dataset and discovered a number of interesting things.\n",
    "- ask posts on average get more comments per post, which is an indicator that users on hacker news are willing to help other users.\n",
    "- found the list of hours in which ask posts will receive the most engagement(comments)."
   ]
  }
 ],
 "metadata": {
  "kernelspec": {
   "display_name": "Python 3 (ipykernel)",
   "language": "python",
   "name": "python3"
  },
  "language_info": {
   "codemirror_mode": {
    "name": "ipython",
    "version": 3
   },
   "file_extension": ".py",
   "mimetype": "text/x-python",
   "name": "python",
   "nbconvert_exporter": "python",
   "pygments_lexer": "ipython3",
   "version": "3.10.9"
  }
 },
 "nbformat": 4,
 "nbformat_minor": 5
}
